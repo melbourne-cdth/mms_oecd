{
 "cells": [
  {
   "cell_type": "markdown",
   "id": "c7296c91-d2c7-4c2e-8ac2-3de2fe078173",
   "metadata": {},
   "source": [
    "# Explore Country Data\n",
    "\n",
    "This notebook allows you to explore some of raw health data collected by the Organisation for Economic Co-Operation and Development ([OECD](https://www.oecd-ilibrary.org/social-issues-migration-health/data/oecd-health-statistics_health-data-en)) for the countries/regions in the Commonwealth studies. Unfortunately, Taiwain and Singapore are not included in their data sets. \n",
    "\n",
    "While an incredibly rich data resource, I found myself continually frustrated when I tried to use the OECD [API (application program interface)](https://en.wikipedia.org/wiki/API) to programmatically pull the data. This cost me a lot of time, and so I've fallen back on using a subset of the data that I've downloaded previously. Of course all of the data can be explored more fully at the [stats.oecd.org](https://stats.oecd.org/) website.\n",
    "\n",
    "When you run the cell with `get_case_explorer()` it will bring up two dropdown menus.\n",
    "\n",
    "- __Countries__: Select which countries you want to look at. (You can select multiple countries)\n",
    "- __Data Set__: Select which data set you want to look at. (You can only view one data set at a time.)\n",
    "\n",
    "The data can be sorted by column. I found it most useful to sort by `Variable` (`Indicator` for the `Health Care Quality Indicators` data set).\n",
    "\n",
    "Unfortunately, the table isn't drawn until you select/change one of the dropdown menus (didn't get a chance to debug this).\n",
    "\n",
    "You will see a wide variety in the amount/types of data available for each country."
   ]
  },
  {
   "cell_type": "code",
   "execution_count": null,
   "id": "da3363d4",
   "metadata": {},
   "outputs": [],
   "source": [
    "using DataFrames\n",
    "using CSV\n",
    "using TableView\n",
    "using Interact\n",
    "using IJulia\n",
    "\n",
    "files = [(\"Health Care Quality Indicators\", \"./data/HCQI.csv\"), \n",
    "         (\"Health Care Resources\", \"./data/REAC.csv\"), \n",
    "         (\"Non-Medical Determinants of Health\",\"./data/LVNG.csv\"), \n",
    "         (\"Health Care Utilization\", \"./data/PROC.csv\")];\n",
    "\n",
    "data = Dict([(f[1], CSV.File(f[2]) |> DataFrame) for f in files])\n",
    "function getCountries(data)\n",
    "    b = [d[!,:Country] for d in values(data)]\n",
    "    [bbb for bb in b for bbb in bb] |> unique |> sort\n",
    "end\n",
    "\n",
    "cchoices = dropdown(getCountries(data), multiple=true);\n",
    "\n",
    "\n",
    "dchoices = dropdown(collect(keys(data)));\n",
    "\n",
    "\n",
    "\n",
    "function f3(c, d)\n",
    "    IJulia.clear_output()\n",
    "    display(hbox(dchoices, cchoices))\n",
    "    display(filter(:Country => x ->x in c, data[d]) |> showtable)\n",
    "end\n",
    "\n",
    "\n",
    "display(hbox(dchoices, cchoices))\n",
    "Observables.@on f3(&cchoices, &dchoices);"
   ]
  },
  {
   "cell_type": "code",
   "execution_count": null,
   "id": "8882e45f-8d9b-4602-b12b-8c9f715b2c2e",
   "metadata": {},
   "outputs": [],
   "source": []
  }
 ],
 "metadata": {
  "@webio": {
   "lastCommId": "058c05f819ac4a72858ceb11db57130d",
   "lastKernelId": "fb53538b-2294-40b0-bdc9-f5ae4cc08104"
  },
  "kernelspec": {
   "display_name": "Julia 1.7-4t 1.7.0",
   "language": "julia",
   "name": "julia-1.7-4t"
  },
  "language_info": {
   "file_extension": ".jl",
   "mimetype": "application/julia",
   "name": "julia",
   "version": "1.7.0"
  }
 },
 "nbformat": 4,
 "nbformat_minor": 5
}
